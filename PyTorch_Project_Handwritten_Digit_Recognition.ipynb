{
  "nbformat": 4,
  "nbformat_minor": 0,
  "metadata": {
    "colab": {
      "provenance": []
    },
    "kernelspec": {
      "name": "python3",
      "display_name": "Python 3"
    },
    "language_info": {
      "name": "python"
    }
  },
  "cells": [
    {
      "cell_type": "code",
      "execution_count": 1,
      "metadata": {
        "id": "JMoBFp-ak1Bz"
      },
      "outputs": [],
      "source": [
        "from torchvision import datasets\n",
        "from torchvision.transforms import ToTensor\n"
      ]
    },
    {
      "cell_type": "code",
      "source": [
        "train_data=datasets.MNIST(root=\"data\",train=True,transform=ToTensor(),\n",
        "                          download=True)\n",
        "\n",
        "test_data=datasets.MNIST(root=\"data\",train=False,transform=ToTensor(),\n",
        "                          download=True)"
      ],
      "metadata": {
        "id": "pLLPDlDwk4Cu"
      },
      "execution_count": 2,
      "outputs": []
    },
    {
      "cell_type": "code",
      "source": [
        "train_data"
      ],
      "metadata": {
        "colab": {
          "base_uri": "https://localhost:8080/"
        },
        "id": "VIahd03Xk4GC",
        "outputId": "865455fa-c281-4fe3-c5fe-25f5f57a5c7f"
      },
      "execution_count": 3,
      "outputs": [
        {
          "output_type": "execute_result",
          "data": {
            "text/plain": [
              "Dataset MNIST\n",
              "    Number of datapoints: 60000\n",
              "    Root location: data\n",
              "    Split: Train\n",
              "    StandardTransform\n",
              "Transform: ToTensor()"
            ]
          },
          "metadata": {},
          "execution_count": 3
        }
      ]
    },
    {
      "cell_type": "code",
      "source": [
        "test_data"
      ],
      "metadata": {
        "colab": {
          "base_uri": "https://localhost:8080/"
        },
        "id": "_tF0OPGOk1zY",
        "outputId": "5066928b-8f6a-4409-ee06-9866ad5d35a5"
      },
      "execution_count": 4,
      "outputs": [
        {
          "output_type": "execute_result",
          "data": {
            "text/plain": [
              "Dataset MNIST\n",
              "    Number of datapoints: 10000\n",
              "    Root location: data\n",
              "    Split: Test\n",
              "    StandardTransform\n",
              "Transform: ToTensor()"
            ]
          },
          "metadata": {},
          "execution_count": 4
        }
      ]
    },
    {
      "cell_type": "code",
      "source": [
        "train_data.data.shape"
      ],
      "metadata": {
        "colab": {
          "base_uri": "https://localhost:8080/"
        },
        "id": "cUkrbza-k12I",
        "outputId": "b7accf7a-49c8-4617-dc13-619988f65d27"
      },
      "execution_count": 5,
      "outputs": [
        {
          "output_type": "execute_result",
          "data": {
            "text/plain": [
              "torch.Size([60000, 28, 28])"
            ]
          },
          "metadata": {},
          "execution_count": 5
        }
      ]
    },
    {
      "cell_type": "code",
      "source": [
        "test_data.data.shape"
      ],
      "metadata": {
        "colab": {
          "base_uri": "https://localhost:8080/"
        },
        "id": "MP1eQ7-yk144",
        "outputId": "a0073472-cd33-4883-b3c9-91c0990feeb8"
      },
      "execution_count": 6,
      "outputs": [
        {
          "output_type": "execute_result",
          "data": {
            "text/plain": [
              "torch.Size([10000, 28, 28])"
            ]
          },
          "metadata": {},
          "execution_count": 6
        }
      ]
    },
    {
      "cell_type": "code",
      "source": [
        "train_data.targets.size()"
      ],
      "metadata": {
        "colab": {
          "base_uri": "https://localhost:8080/"
        },
        "id": "w7oaWV8Pk17w",
        "outputId": "6d0fb059-e45c-4e79-d576-3f5a09e9a455"
      },
      "execution_count": 7,
      "outputs": [
        {
          "output_type": "execute_result",
          "data": {
            "text/plain": [
              "torch.Size([60000])"
            ]
          },
          "metadata": {},
          "execution_count": 7
        }
      ]
    },
    {
      "cell_type": "code",
      "source": [
        "train_data.targets"
      ],
      "metadata": {
        "colab": {
          "base_uri": "https://localhost:8080/"
        },
        "id": "HUGRmcEvk1-8",
        "outputId": "299b01ae-fe4e-41e7-b7b2-842554cd69bf"
      },
      "execution_count": 8,
      "outputs": [
        {
          "output_type": "execute_result",
          "data": {
            "text/plain": [
              "tensor([5, 0, 4,  ..., 5, 6, 8])"
            ]
          },
          "metadata": {},
          "execution_count": 8
        }
      ]
    },
    {
      "cell_type": "code",
      "source": [
        "from torch.utils.data import DataLoader\n",
        "loaders={\n",
        "         \"train\":DataLoader(train_data,batch_size=64,shuffle=True,num_workers=1),\n",
        "         \"test\":DataLoader(test_data,batch_size=64,shuffle=True,num_workers=1),\n",
        "         }\n"
      ],
      "metadata": {
        "id": "dLUGNPXIl2aQ"
      },
      "execution_count": 9,
      "outputs": []
    },
    {
      "cell_type": "code",
      "source": [
        "import torch.nn as nn\n",
        "import torch.nn.functional as F\n",
        "import torch.optim as optim\n",
        "\n",
        "class CNN(nn.Module):\n",
        "  def __init__(self):\n",
        "    super(CNN,self).__init__()\n",
        "    self.conv1=nn.Conv2d(1,10,kernel_size=5)\n",
        "    self.conv2=nn.Conv2d(10,20,kernel_size=5)\n",
        "    self.conv2_drop=nn.Dropout2d()\n",
        "    self.fc1=nn.Linear(320,50)\n",
        "    self.fc2=nn.Linear(50,10)\n",
        "\n",
        "\n",
        "  def forward(self,x):\n",
        "    x=F.relu(F.max_pool2d(self.conv1(x),2))\n",
        "    x=F.relu(F.max_pool2d(self.conv2_drop(self.conv2(x)),2))\n",
        "    x=x.view(-1,320)\n",
        "    x=F.relu(self.fc1(x))\n",
        "    x=F.dropout(x,training=self.training)\n",
        "    x=self.fc2(x)\n",
        "\n",
        "    return F.softmax(x)"
      ],
      "metadata": {
        "id": "EQshVjpYl2W2"
      },
      "execution_count": 18,
      "outputs": []
    },
    {
      "cell_type": "code",
      "source": [
        "import torch\n",
        "device = torch.device(\"cuda\" if torch.cuda.is_available() else \"cpu\")\n",
        "model = CNN().to(device)\n",
        "optimizer = optim.Adam(model.parameters(), lr=0.001)\n",
        "loss_fn = nn.CrossEntropyLoss()\n",
        "\n",
        "def train(epoch):\n",
        "    model.train()\n",
        "    for batch_idx, (data, target) in enumerate(loaders[\"train\"]):\n",
        "        data, target = data.to(device), target.to(device)\n",
        "        optimizer.zero_grad()\n",
        "        output = model(data)\n",
        "        loss = loss_fn(output, target)\n",
        "        loss.backward()\n",
        "        optimizer.step()\n",
        "\n",
        "        if batch_idx % 20 == 0:\n",
        "            print(f\"Train Epoch {epoch} [{batch_idx * len(data)}/{len(loaders['train'].dataset)} ({100. * batch_idx / len(loaders['train']):.0f}%)]\\t{loss.item():.6f}\")\n",
        "\n",
        "def test():\n",
        "    model.eval()\n",
        "    test_loss = 0\n",
        "    correct = 0\n",
        "    with torch.no_grad():\n",
        "        for data, target in loaders[\"test\"]:\n",
        "            data, target = data.to(device), target.to(device)\n",
        "            output = model(data)\n",
        "            test_loss += loss_fn(output, target).item()\n",
        "            pred = output.argmax(dim=1, keepdim=True)\n",
        "            correct += pred.eq(target.view_as(pred)).sum().item()\n",
        "\n",
        "    test_loss /= len(loaders[\"test\"].dataset)\n",
        "    print(f\"\\nTest Set: average loss: {test_loss:.4f}, accuracy {correct}/{len(loaders['test'].dataset)} ({100. * correct / len(loaders['test'].dataset):.0f}%)\\n\")\n"
      ],
      "metadata": {
        "id": "VR1Hd_RAl2T5"
      },
      "execution_count": 19,
      "outputs": []
    },
    {
      "cell_type": "code",
      "source": [
        "for epoch in range(1,11):\n",
        "  train(epoch)\n",
        "  test()"
      ],
      "metadata": {
        "colab": {
          "base_uri": "https://localhost:8080/"
        },
        "id": "hYrCdJZsxTRW",
        "outputId": "c05804c1-b575-4d62-adda-ec2ccf393215"
      },
      "execution_count": 20,
      "outputs": [
        {
          "output_type": "stream",
          "name": "stderr",
          "text": [
            "<ipython-input-18-ffdda22ff0ba>:23: UserWarning: Implicit dimension choice for softmax has been deprecated. Change the call to include dim=X as an argument.\n",
            "  return F.softmax(x)\n"
          ]
        },
        {
          "output_type": "stream",
          "name": "stdout",
          "text": [
            "Train Epoch 1 [0/60000 (0%)]\t2.304240\n",
            "Train Epoch 1 [1280/60000 (2%)]\t2.295208\n",
            "Train Epoch 1 [2560/60000 (4%)]\t2.220741\n",
            "Train Epoch 1 [3840/60000 (6%)]\t2.060197\n",
            "Train Epoch 1 [5120/60000 (9%)]\t1.918990\n",
            "Train Epoch 1 [6400/60000 (11%)]\t1.854594\n",
            "Train Epoch 1 [7680/60000 (13%)]\t1.805613\n",
            "Train Epoch 1 [8960/60000 (15%)]\t1.725524\n",
            "Train Epoch 1 [10240/60000 (17%)]\t1.828773\n",
            "Train Epoch 1 [11520/60000 (19%)]\t1.764740\n",
            "Train Epoch 1 [12800/60000 (21%)]\t1.695902\n",
            "Train Epoch 1 [14080/60000 (23%)]\t1.720729\n",
            "Train Epoch 1 [15360/60000 (26%)]\t1.676512\n",
            "Train Epoch 1 [16640/60000 (28%)]\t1.718654\n",
            "Train Epoch 1 [17920/60000 (30%)]\t1.659908\n",
            "Train Epoch 1 [19200/60000 (32%)]\t1.641755\n",
            "Train Epoch 1 [20480/60000 (34%)]\t1.639173\n",
            "Train Epoch 1 [21760/60000 (36%)]\t1.615188\n",
            "Train Epoch 1 [23040/60000 (38%)]\t1.644904\n",
            "Train Epoch 1 [24320/60000 (41%)]\t1.669572\n",
            "Train Epoch 1 [25600/60000 (43%)]\t1.655835\n",
            "Train Epoch 1 [26880/60000 (45%)]\t1.712406\n",
            "Train Epoch 1 [28160/60000 (47%)]\t1.679495\n",
            "Train Epoch 1 [29440/60000 (49%)]\t1.598177\n",
            "Train Epoch 1 [30720/60000 (51%)]\t1.619705\n",
            "Train Epoch 1 [32000/60000 (53%)]\t1.589673\n",
            "Train Epoch 1 [33280/60000 (55%)]\t1.626497\n",
            "Train Epoch 1 [34560/60000 (58%)]\t1.652750\n",
            "Train Epoch 1 [35840/60000 (60%)]\t1.619560\n",
            "Train Epoch 1 [37120/60000 (62%)]\t1.577582\n",
            "Train Epoch 1 [38400/60000 (64%)]\t1.587740\n",
            "Train Epoch 1 [39680/60000 (66%)]\t1.602078\n",
            "Train Epoch 1 [40960/60000 (68%)]\t1.625421\n",
            "Train Epoch 1 [42240/60000 (70%)]\t1.586883\n",
            "Train Epoch 1 [43520/60000 (72%)]\t1.627679\n",
            "Train Epoch 1 [44800/60000 (75%)]\t1.573451\n",
            "Train Epoch 1 [46080/60000 (77%)]\t1.591939\n",
            "Train Epoch 1 [47360/60000 (79%)]\t1.596570\n",
            "Train Epoch 1 [48640/60000 (81%)]\t1.642185\n",
            "Train Epoch 1 [49920/60000 (83%)]\t1.595219\n",
            "Train Epoch 1 [51200/60000 (85%)]\t1.658696\n",
            "Train Epoch 1 [52480/60000 (87%)]\t1.545922\n",
            "Train Epoch 1 [53760/60000 (90%)]\t1.559798\n",
            "Train Epoch 1 [55040/60000 (92%)]\t1.640692\n",
            "Train Epoch 1 [56320/60000 (94%)]\t1.626177\n",
            "Train Epoch 1 [57600/60000 (96%)]\t1.567475\n",
            "Train Epoch 1 [58880/60000 (98%)]\t1.569898\n",
            "\n",
            "Test Set: average loss: 0.0239, accuracy 9407/10000 (94%)\n",
            "\n",
            "Train Epoch 2 [0/60000 (0%)]\t1.560287\n",
            "Train Epoch 2 [1280/60000 (2%)]\t1.665673\n",
            "Train Epoch 2 [2560/60000 (4%)]\t1.597750\n",
            "Train Epoch 2 [3840/60000 (6%)]\t1.626105\n",
            "Train Epoch 2 [5120/60000 (9%)]\t1.500704\n",
            "Train Epoch 2 [6400/60000 (11%)]\t1.587519\n",
            "Train Epoch 2 [7680/60000 (13%)]\t1.629941\n",
            "Train Epoch 2 [8960/60000 (15%)]\t1.618701\n",
            "Train Epoch 2 [10240/60000 (17%)]\t1.543467\n",
            "Train Epoch 2 [11520/60000 (19%)]\t1.597296\n",
            "Train Epoch 2 [12800/60000 (21%)]\t1.599817\n",
            "Train Epoch 2 [14080/60000 (23%)]\t1.541278\n",
            "Train Epoch 2 [15360/60000 (26%)]\t1.556562\n",
            "Train Epoch 2 [16640/60000 (28%)]\t1.644402\n",
            "Train Epoch 2 [17920/60000 (30%)]\t1.634946\n",
            "Train Epoch 2 [19200/60000 (32%)]\t1.573815\n",
            "Train Epoch 2 [20480/60000 (34%)]\t1.534924\n",
            "Train Epoch 2 [21760/60000 (36%)]\t1.558292\n",
            "Train Epoch 2 [23040/60000 (38%)]\t1.554182\n",
            "Train Epoch 2 [24320/60000 (41%)]\t1.513700\n",
            "Train Epoch 2 [25600/60000 (43%)]\t1.603509\n",
            "Train Epoch 2 [26880/60000 (45%)]\t1.549648\n",
            "Train Epoch 2 [28160/60000 (47%)]\t1.609332\n",
            "Train Epoch 2 [29440/60000 (49%)]\t1.515110\n",
            "Train Epoch 2 [30720/60000 (51%)]\t1.495564\n",
            "Train Epoch 2 [32000/60000 (53%)]\t1.598519\n",
            "Train Epoch 2 [33280/60000 (55%)]\t1.542331\n",
            "Train Epoch 2 [34560/60000 (58%)]\t1.546989\n",
            "Train Epoch 2 [35840/60000 (60%)]\t1.517564\n",
            "Train Epoch 2 [37120/60000 (62%)]\t1.581977\n",
            "Train Epoch 2 [38400/60000 (64%)]\t1.519236\n",
            "Train Epoch 2 [39680/60000 (66%)]\t1.588027\n",
            "Train Epoch 2 [40960/60000 (68%)]\t1.610023\n",
            "Train Epoch 2 [42240/60000 (70%)]\t1.548236\n",
            "Train Epoch 2 [43520/60000 (72%)]\t1.545441\n",
            "Train Epoch 2 [44800/60000 (75%)]\t1.535346\n",
            "Train Epoch 2 [46080/60000 (77%)]\t1.599288\n",
            "Train Epoch 2 [47360/60000 (79%)]\t1.612123\n",
            "Train Epoch 2 [48640/60000 (81%)]\t1.579408\n",
            "Train Epoch 2 [49920/60000 (83%)]\t1.584723\n",
            "Train Epoch 2 [51200/60000 (85%)]\t1.527443\n",
            "Train Epoch 2 [52480/60000 (87%)]\t1.515370\n",
            "Train Epoch 2 [53760/60000 (90%)]\t1.504092\n",
            "Train Epoch 2 [55040/60000 (92%)]\t1.577345\n",
            "Train Epoch 2 [56320/60000 (94%)]\t1.538014\n",
            "Train Epoch 2 [57600/60000 (96%)]\t1.583866\n",
            "Train Epoch 2 [58880/60000 (98%)]\t1.574540\n",
            "\n",
            "Test Set: average loss: 0.0237, accuracy 9525/10000 (95%)\n",
            "\n",
            "Train Epoch 3 [0/60000 (0%)]\t1.594281\n",
            "Train Epoch 3 [1280/60000 (2%)]\t1.533775\n",
            "Train Epoch 3 [2560/60000 (4%)]\t1.537491\n",
            "Train Epoch 3 [3840/60000 (6%)]\t1.528036\n",
            "Train Epoch 3 [5120/60000 (9%)]\t1.537692\n",
            "Train Epoch 3 [6400/60000 (11%)]\t1.551287\n",
            "Train Epoch 3 [7680/60000 (13%)]\t1.590621\n",
            "Train Epoch 3 [8960/60000 (15%)]\t1.531747\n",
            "Train Epoch 3 [10240/60000 (17%)]\t1.609869\n",
            "Train Epoch 3 [11520/60000 (19%)]\t1.567964\n",
            "Train Epoch 3 [12800/60000 (21%)]\t1.579641\n",
            "Train Epoch 3 [14080/60000 (23%)]\t1.631404\n",
            "Train Epoch 3 [15360/60000 (26%)]\t1.571398\n",
            "Train Epoch 3 [16640/60000 (28%)]\t1.598805\n",
            "Train Epoch 3 [17920/60000 (30%)]\t1.628704\n",
            "Train Epoch 3 [19200/60000 (32%)]\t1.539411\n",
            "Train Epoch 3 [20480/60000 (34%)]\t1.543191\n",
            "Train Epoch 3 [21760/60000 (36%)]\t1.562528\n",
            "Train Epoch 3 [23040/60000 (38%)]\t1.563086\n",
            "Train Epoch 3 [24320/60000 (41%)]\t1.531818\n",
            "Train Epoch 3 [25600/60000 (43%)]\t1.551997\n",
            "Train Epoch 3 [26880/60000 (45%)]\t1.545376\n",
            "Train Epoch 3 [28160/60000 (47%)]\t1.568534\n",
            "Train Epoch 3 [29440/60000 (49%)]\t1.554560\n",
            "Train Epoch 3 [30720/60000 (51%)]\t1.545954\n",
            "Train Epoch 3 [32000/60000 (53%)]\t1.547466\n",
            "Train Epoch 3 [33280/60000 (55%)]\t1.589479\n",
            "Train Epoch 3 [34560/60000 (58%)]\t1.537562\n",
            "Train Epoch 3 [35840/60000 (60%)]\t1.537563\n",
            "Train Epoch 3 [37120/60000 (62%)]\t1.583825\n",
            "Train Epoch 3 [38400/60000 (64%)]\t1.596199\n",
            "Train Epoch 3 [39680/60000 (66%)]\t1.539771\n",
            "Train Epoch 3 [40960/60000 (68%)]\t1.524272\n",
            "Train Epoch 3 [42240/60000 (70%)]\t1.533418\n",
            "Train Epoch 3 [43520/60000 (72%)]\t1.574136\n",
            "Train Epoch 3 [44800/60000 (75%)]\t1.579237\n",
            "Train Epoch 3 [46080/60000 (77%)]\t1.546094\n",
            "Train Epoch 3 [47360/60000 (79%)]\t1.530399\n",
            "Train Epoch 3 [48640/60000 (81%)]\t1.603891\n",
            "Train Epoch 3 [49920/60000 (83%)]\t1.544387\n",
            "Train Epoch 3 [51200/60000 (85%)]\t1.550548\n",
            "Train Epoch 3 [52480/60000 (87%)]\t1.532870\n",
            "Train Epoch 3 [53760/60000 (90%)]\t1.538445\n",
            "Train Epoch 3 [55040/60000 (92%)]\t1.542917\n",
            "Train Epoch 3 [56320/60000 (94%)]\t1.561601\n",
            "Train Epoch 3 [57600/60000 (96%)]\t1.574335\n",
            "Train Epoch 3 [58880/60000 (98%)]\t1.543855\n",
            "\n",
            "Test Set: average loss: 0.0236, accuracy 9585/10000 (96%)\n",
            "\n",
            "Train Epoch 4 [0/60000 (0%)]\t1.572522\n",
            "Train Epoch 4 [1280/60000 (2%)]\t1.558038\n",
            "Train Epoch 4 [2560/60000 (4%)]\t1.561453\n",
            "Train Epoch 4 [3840/60000 (6%)]\t1.590813\n",
            "Train Epoch 4 [5120/60000 (9%)]\t1.558094\n",
            "Train Epoch 4 [6400/60000 (11%)]\t1.551399\n",
            "Train Epoch 4 [7680/60000 (13%)]\t1.621043\n",
            "Train Epoch 4 [8960/60000 (15%)]\t1.517090\n",
            "Train Epoch 4 [10240/60000 (17%)]\t1.483248\n",
            "Train Epoch 4 [11520/60000 (19%)]\t1.563058\n",
            "Train Epoch 4 [12800/60000 (21%)]\t1.564085\n",
            "Train Epoch 4 [14080/60000 (23%)]\t1.579573\n",
            "Train Epoch 4 [15360/60000 (26%)]\t1.524491\n",
            "Train Epoch 4 [16640/60000 (28%)]\t1.567765\n",
            "Train Epoch 4 [17920/60000 (30%)]\t1.479830\n",
            "Train Epoch 4 [19200/60000 (32%)]\t1.529085\n",
            "Train Epoch 4 [20480/60000 (34%)]\t1.529919\n",
            "Train Epoch 4 [21760/60000 (36%)]\t1.541910\n",
            "Train Epoch 4 [23040/60000 (38%)]\t1.558238\n",
            "Train Epoch 4 [24320/60000 (41%)]\t1.574385\n",
            "Train Epoch 4 [25600/60000 (43%)]\t1.556874\n",
            "Train Epoch 4 [26880/60000 (45%)]\t1.563619\n",
            "Train Epoch 4 [28160/60000 (47%)]\t1.509567\n",
            "Train Epoch 4 [29440/60000 (49%)]\t1.500362\n",
            "Train Epoch 4 [30720/60000 (51%)]\t1.547838\n",
            "Train Epoch 4 [32000/60000 (53%)]\t1.561691\n",
            "Train Epoch 4 [33280/60000 (55%)]\t1.574054\n",
            "Train Epoch 4 [34560/60000 (58%)]\t1.558658\n",
            "Train Epoch 4 [35840/60000 (60%)]\t1.552589\n",
            "Train Epoch 4 [37120/60000 (62%)]\t1.494534\n",
            "Train Epoch 4 [38400/60000 (64%)]\t1.470321\n",
            "Train Epoch 4 [39680/60000 (66%)]\t1.563362\n",
            "Train Epoch 4 [40960/60000 (68%)]\t1.535024\n",
            "Train Epoch 4 [42240/60000 (70%)]\t1.593157\n",
            "Train Epoch 4 [43520/60000 (72%)]\t1.570086\n",
            "Train Epoch 4 [44800/60000 (75%)]\t1.518209\n",
            "Train Epoch 4 [46080/60000 (77%)]\t1.555585\n",
            "Train Epoch 4 [47360/60000 (79%)]\t1.543300\n",
            "Train Epoch 4 [48640/60000 (81%)]\t1.526493\n",
            "Train Epoch 4 [49920/60000 (83%)]\t1.530695\n",
            "Train Epoch 4 [51200/60000 (85%)]\t1.546109\n",
            "Train Epoch 4 [52480/60000 (87%)]\t1.537054\n",
            "Train Epoch 4 [53760/60000 (90%)]\t1.590599\n",
            "Train Epoch 4 [55040/60000 (92%)]\t1.565320\n",
            "Train Epoch 4 [56320/60000 (94%)]\t1.499396\n",
            "Train Epoch 4 [57600/60000 (96%)]\t1.496501\n",
            "Train Epoch 4 [58880/60000 (98%)]\t1.494891\n",
            "\n",
            "Test Set: average loss: 0.0235, accuracy 9632/10000 (96%)\n",
            "\n",
            "Train Epoch 5 [0/60000 (0%)]\t1.530416\n",
            "Train Epoch 5 [1280/60000 (2%)]\t1.513104\n",
            "Train Epoch 5 [2560/60000 (4%)]\t1.557740\n",
            "Train Epoch 5 [3840/60000 (6%)]\t1.543205\n",
            "Train Epoch 5 [5120/60000 (9%)]\t1.539331\n",
            "Train Epoch 5 [6400/60000 (11%)]\t1.619015\n",
            "Train Epoch 5 [7680/60000 (13%)]\t1.583384\n",
            "Train Epoch 5 [8960/60000 (15%)]\t1.505147\n",
            "Train Epoch 5 [10240/60000 (17%)]\t1.477432\n",
            "Train Epoch 5 [11520/60000 (19%)]\t1.532987\n",
            "Train Epoch 5 [12800/60000 (21%)]\t1.546347\n",
            "Train Epoch 5 [14080/60000 (23%)]\t1.519991\n",
            "Train Epoch 5 [15360/60000 (26%)]\t1.552273\n",
            "Train Epoch 5 [16640/60000 (28%)]\t1.543443\n",
            "Train Epoch 5 [17920/60000 (30%)]\t1.516438\n",
            "Train Epoch 5 [19200/60000 (32%)]\t1.529681\n",
            "Train Epoch 5 [20480/60000 (34%)]\t1.524198\n",
            "Train Epoch 5 [21760/60000 (36%)]\t1.512221\n",
            "Train Epoch 5 [23040/60000 (38%)]\t1.629158\n",
            "Train Epoch 5 [24320/60000 (41%)]\t1.625021\n",
            "Train Epoch 5 [25600/60000 (43%)]\t1.541371\n",
            "Train Epoch 5 [26880/60000 (45%)]\t1.517194\n",
            "Train Epoch 5 [28160/60000 (47%)]\t1.564263\n",
            "Train Epoch 5 [29440/60000 (49%)]\t1.538681\n",
            "Train Epoch 5 [30720/60000 (51%)]\t1.527304\n",
            "Train Epoch 5 [32000/60000 (53%)]\t1.511502\n",
            "Train Epoch 5 [33280/60000 (55%)]\t1.554103\n",
            "Train Epoch 5 [34560/60000 (58%)]\t1.528794\n",
            "Train Epoch 5 [35840/60000 (60%)]\t1.504685\n",
            "Train Epoch 5 [37120/60000 (62%)]\t1.532052\n",
            "Train Epoch 5 [38400/60000 (64%)]\t1.516121\n",
            "Train Epoch 5 [39680/60000 (66%)]\t1.497074\n",
            "Train Epoch 5 [40960/60000 (68%)]\t1.517759\n",
            "Train Epoch 5 [42240/60000 (70%)]\t1.523986\n",
            "Train Epoch 5 [43520/60000 (72%)]\t1.540615\n",
            "Train Epoch 5 [44800/60000 (75%)]\t1.531263\n",
            "Train Epoch 5 [46080/60000 (77%)]\t1.505639\n",
            "Train Epoch 5 [47360/60000 (79%)]\t1.500231\n",
            "Train Epoch 5 [48640/60000 (81%)]\t1.492380\n",
            "Train Epoch 5 [49920/60000 (83%)]\t1.525955\n",
            "Train Epoch 5 [51200/60000 (85%)]\t1.521645\n",
            "Train Epoch 5 [52480/60000 (87%)]\t1.538562\n",
            "Train Epoch 5 [53760/60000 (90%)]\t1.544056\n",
            "Train Epoch 5 [55040/60000 (92%)]\t1.506056\n",
            "Train Epoch 5 [56320/60000 (94%)]\t1.519198\n",
            "Train Epoch 5 [57600/60000 (96%)]\t1.583895\n",
            "Train Epoch 5 [58880/60000 (98%)]\t1.508124\n",
            "\n",
            "Test Set: average loss: 0.0235, accuracy 9638/10000 (96%)\n",
            "\n",
            "Train Epoch 6 [0/60000 (0%)]\t1.539474\n",
            "Train Epoch 6 [1280/60000 (2%)]\t1.557699\n",
            "Train Epoch 6 [2560/60000 (4%)]\t1.551271\n",
            "Train Epoch 6 [3840/60000 (6%)]\t1.548466\n",
            "Train Epoch 6 [5120/60000 (9%)]\t1.588952\n",
            "Train Epoch 6 [6400/60000 (11%)]\t1.517252\n",
            "Train Epoch 6 [7680/60000 (13%)]\t1.532868\n",
            "Train Epoch 6 [8960/60000 (15%)]\t1.534963\n",
            "Train Epoch 6 [10240/60000 (17%)]\t1.555182\n",
            "Train Epoch 6 [11520/60000 (19%)]\t1.554117\n",
            "Train Epoch 6 [12800/60000 (21%)]\t1.540241\n",
            "Train Epoch 6 [14080/60000 (23%)]\t1.500294\n",
            "Train Epoch 6 [15360/60000 (26%)]\t1.565723\n",
            "Train Epoch 6 [16640/60000 (28%)]\t1.526071\n",
            "Train Epoch 6 [17920/60000 (30%)]\t1.537074\n",
            "Train Epoch 6 [19200/60000 (32%)]\t1.539160\n",
            "Train Epoch 6 [20480/60000 (34%)]\t1.516162\n",
            "Train Epoch 6 [21760/60000 (36%)]\t1.511698\n",
            "Train Epoch 6 [23040/60000 (38%)]\t1.540743\n",
            "Train Epoch 6 [24320/60000 (41%)]\t1.556678\n",
            "Train Epoch 6 [25600/60000 (43%)]\t1.502102\n",
            "Train Epoch 6 [26880/60000 (45%)]\t1.539577\n",
            "Train Epoch 6 [28160/60000 (47%)]\t1.576853\n",
            "Train Epoch 6 [29440/60000 (49%)]\t1.541619\n",
            "Train Epoch 6 [30720/60000 (51%)]\t1.494220\n",
            "Train Epoch 6 [32000/60000 (53%)]\t1.531349\n",
            "Train Epoch 6 [33280/60000 (55%)]\t1.558887\n",
            "Train Epoch 6 [34560/60000 (58%)]\t1.563693\n",
            "Train Epoch 6 [35840/60000 (60%)]\t1.515928\n",
            "Train Epoch 6 [37120/60000 (62%)]\t1.532212\n",
            "Train Epoch 6 [38400/60000 (64%)]\t1.526066\n",
            "Train Epoch 6 [39680/60000 (66%)]\t1.564075\n",
            "Train Epoch 6 [40960/60000 (68%)]\t1.563147\n",
            "Train Epoch 6 [42240/60000 (70%)]\t1.557707\n",
            "Train Epoch 6 [43520/60000 (72%)]\t1.499570\n",
            "Train Epoch 6 [44800/60000 (75%)]\t1.494183\n",
            "Train Epoch 6 [46080/60000 (77%)]\t1.531677\n",
            "Train Epoch 6 [47360/60000 (79%)]\t1.568857\n",
            "Train Epoch 6 [48640/60000 (81%)]\t1.532847\n",
            "Train Epoch 6 [49920/60000 (83%)]\t1.547336\n",
            "Train Epoch 6 [51200/60000 (85%)]\t1.539243\n",
            "Train Epoch 6 [52480/60000 (87%)]\t1.538262\n",
            "Train Epoch 6 [53760/60000 (90%)]\t1.540844\n",
            "Train Epoch 6 [55040/60000 (92%)]\t1.501711\n",
            "Train Epoch 6 [56320/60000 (94%)]\t1.495825\n",
            "Train Epoch 6 [57600/60000 (96%)]\t1.509083\n",
            "Train Epoch 6 [58880/60000 (98%)]\t1.500991\n",
            "\n",
            "Test Set: average loss: 0.0235, accuracy 9678/10000 (97%)\n",
            "\n",
            "Train Epoch 7 [0/60000 (0%)]\t1.476867\n",
            "Train Epoch 7 [1280/60000 (2%)]\t1.530248\n",
            "Train Epoch 7 [2560/60000 (4%)]\t1.580434\n",
            "Train Epoch 7 [3840/60000 (6%)]\t1.508728\n",
            "Train Epoch 7 [5120/60000 (9%)]\t1.568703\n",
            "Train Epoch 7 [6400/60000 (11%)]\t1.495617\n",
            "Train Epoch 7 [7680/60000 (13%)]\t1.571979\n",
            "Train Epoch 7 [8960/60000 (15%)]\t1.476824\n",
            "Train Epoch 7 [10240/60000 (17%)]\t1.479946\n",
            "Train Epoch 7 [11520/60000 (19%)]\t1.550084\n",
            "Train Epoch 7 [12800/60000 (21%)]\t1.556298\n",
            "Train Epoch 7 [14080/60000 (23%)]\t1.525944\n",
            "Train Epoch 7 [15360/60000 (26%)]\t1.495154\n",
            "Train Epoch 7 [16640/60000 (28%)]\t1.501528\n",
            "Train Epoch 7 [17920/60000 (30%)]\t1.524519\n",
            "Train Epoch 7 [19200/60000 (32%)]\t1.464130\n",
            "Train Epoch 7 [20480/60000 (34%)]\t1.481964\n",
            "Train Epoch 7 [21760/60000 (36%)]\t1.581525\n",
            "Train Epoch 7 [23040/60000 (38%)]\t1.549170\n",
            "Train Epoch 7 [24320/60000 (41%)]\t1.557996\n",
            "Train Epoch 7 [25600/60000 (43%)]\t1.529611\n",
            "Train Epoch 7 [26880/60000 (45%)]\t1.497703\n",
            "Train Epoch 7 [28160/60000 (47%)]\t1.476761\n",
            "Train Epoch 7 [29440/60000 (49%)]\t1.558383\n",
            "Train Epoch 7 [30720/60000 (51%)]\t1.554433\n",
            "Train Epoch 7 [32000/60000 (53%)]\t1.541170\n",
            "Train Epoch 7 [33280/60000 (55%)]\t1.522656\n",
            "Train Epoch 7 [34560/60000 (58%)]\t1.546271\n",
            "Train Epoch 7 [35840/60000 (60%)]\t1.521882\n",
            "Train Epoch 7 [37120/60000 (62%)]\t1.531688\n",
            "Train Epoch 7 [38400/60000 (64%)]\t1.495062\n",
            "Train Epoch 7 [39680/60000 (66%)]\t1.575682\n",
            "Train Epoch 7 [40960/60000 (68%)]\t1.572567\n",
            "Train Epoch 7 [42240/60000 (70%)]\t1.542055\n",
            "Train Epoch 7 [43520/60000 (72%)]\t1.541563\n",
            "Train Epoch 7 [44800/60000 (75%)]\t1.507942\n",
            "Train Epoch 7 [46080/60000 (77%)]\t1.537037\n",
            "Train Epoch 7 [47360/60000 (79%)]\t1.583014\n",
            "Train Epoch 7 [48640/60000 (81%)]\t1.514852\n",
            "Train Epoch 7 [49920/60000 (83%)]\t1.563584\n",
            "Train Epoch 7 [51200/60000 (85%)]\t1.496888\n",
            "Train Epoch 7 [52480/60000 (87%)]\t1.501775\n",
            "Train Epoch 7 [53760/60000 (90%)]\t1.527762\n",
            "Train Epoch 7 [55040/60000 (92%)]\t1.517996\n",
            "Train Epoch 7 [56320/60000 (94%)]\t1.537389\n",
            "Train Epoch 7 [57600/60000 (96%)]\t1.547220\n",
            "Train Epoch 7 [58880/60000 (98%)]\t1.596403\n",
            "\n",
            "Test Set: average loss: 0.0234, accuracy 9679/10000 (97%)\n",
            "\n",
            "Train Epoch 8 [0/60000 (0%)]\t1.578938\n",
            "Train Epoch 8 [1280/60000 (2%)]\t1.552697\n",
            "Train Epoch 8 [2560/60000 (4%)]\t1.521528\n",
            "Train Epoch 8 [3840/60000 (6%)]\t1.615674\n",
            "Train Epoch 8 [5120/60000 (9%)]\t1.523989\n",
            "Train Epoch 8 [6400/60000 (11%)]\t1.525153\n",
            "Train Epoch 8 [7680/60000 (13%)]\t1.487221\n",
            "Train Epoch 8 [8960/60000 (15%)]\t1.560213\n",
            "Train Epoch 8 [10240/60000 (17%)]\t1.498920\n",
            "Train Epoch 8 [11520/60000 (19%)]\t1.617950\n",
            "Train Epoch 8 [12800/60000 (21%)]\t1.566044\n",
            "Train Epoch 8 [14080/60000 (23%)]\t1.481996\n",
            "Train Epoch 8 [15360/60000 (26%)]\t1.507646\n",
            "Train Epoch 8 [16640/60000 (28%)]\t1.551982\n",
            "Train Epoch 8 [17920/60000 (30%)]\t1.508350\n",
            "Train Epoch 8 [19200/60000 (32%)]\t1.529778\n",
            "Train Epoch 8 [20480/60000 (34%)]\t1.525143\n",
            "Train Epoch 8 [21760/60000 (36%)]\t1.592222\n",
            "Train Epoch 8 [23040/60000 (38%)]\t1.492068\n",
            "Train Epoch 8 [24320/60000 (41%)]\t1.578803\n",
            "Train Epoch 8 [25600/60000 (43%)]\t1.496405\n",
            "Train Epoch 8 [26880/60000 (45%)]\t1.508722\n",
            "Train Epoch 8 [28160/60000 (47%)]\t1.535241\n",
            "Train Epoch 8 [29440/60000 (49%)]\t1.523228\n",
            "Train Epoch 8 [30720/60000 (51%)]\t1.506377\n",
            "Train Epoch 8 [32000/60000 (53%)]\t1.485687\n",
            "Train Epoch 8 [33280/60000 (55%)]\t1.545701\n",
            "Train Epoch 8 [34560/60000 (58%)]\t1.520379\n",
            "Train Epoch 8 [35840/60000 (60%)]\t1.558186\n",
            "Train Epoch 8 [37120/60000 (62%)]\t1.557673\n",
            "Train Epoch 8 [38400/60000 (64%)]\t1.509346\n",
            "Train Epoch 8 [39680/60000 (66%)]\t1.537802\n",
            "Train Epoch 8 [40960/60000 (68%)]\t1.533154\n",
            "Train Epoch 8 [42240/60000 (70%)]\t1.567502\n",
            "Train Epoch 8 [43520/60000 (72%)]\t1.500926\n",
            "Train Epoch 8 [44800/60000 (75%)]\t1.584018\n",
            "Train Epoch 8 [46080/60000 (77%)]\t1.499689\n",
            "Train Epoch 8 [47360/60000 (79%)]\t1.521446\n",
            "Train Epoch 8 [48640/60000 (81%)]\t1.481250\n",
            "Train Epoch 8 [49920/60000 (83%)]\t1.531463\n",
            "Train Epoch 8 [51200/60000 (85%)]\t1.540061\n",
            "Train Epoch 8 [52480/60000 (87%)]\t1.559735\n",
            "Train Epoch 8 [53760/60000 (90%)]\t1.580391\n",
            "Train Epoch 8 [55040/60000 (92%)]\t1.569507\n",
            "Train Epoch 8 [56320/60000 (94%)]\t1.522831\n",
            "Train Epoch 8 [57600/60000 (96%)]\t1.539221\n",
            "Train Epoch 8 [58880/60000 (98%)]\t1.509582\n",
            "\n",
            "Test Set: average loss: 0.0234, accuracy 9734/10000 (97%)\n",
            "\n",
            "Train Epoch 9 [0/60000 (0%)]\t1.530474\n",
            "Train Epoch 9 [1280/60000 (2%)]\t1.503185\n",
            "Train Epoch 9 [2560/60000 (4%)]\t1.512992\n",
            "Train Epoch 9 [3840/60000 (6%)]\t1.563233\n",
            "Train Epoch 9 [5120/60000 (9%)]\t1.482201\n",
            "Train Epoch 9 [6400/60000 (11%)]\t1.504094\n",
            "Train Epoch 9 [7680/60000 (13%)]\t1.530516\n",
            "Train Epoch 9 [8960/60000 (15%)]\t1.517307\n",
            "Train Epoch 9 [10240/60000 (17%)]\t1.532973\n",
            "Train Epoch 9 [11520/60000 (19%)]\t1.490679\n",
            "Train Epoch 9 [12800/60000 (21%)]\t1.532854\n",
            "Train Epoch 9 [14080/60000 (23%)]\t1.543166\n",
            "Train Epoch 9 [15360/60000 (26%)]\t1.524778\n",
            "Train Epoch 9 [16640/60000 (28%)]\t1.581489\n",
            "Train Epoch 9 [17920/60000 (30%)]\t1.504562\n",
            "Train Epoch 9 [19200/60000 (32%)]\t1.526110\n",
            "Train Epoch 9 [20480/60000 (34%)]\t1.525439\n",
            "Train Epoch 9 [21760/60000 (36%)]\t1.479881\n",
            "Train Epoch 9 [23040/60000 (38%)]\t1.553688\n",
            "Train Epoch 9 [24320/60000 (41%)]\t1.513525\n",
            "Train Epoch 9 [25600/60000 (43%)]\t1.582559\n",
            "Train Epoch 9 [26880/60000 (45%)]\t1.515836\n",
            "Train Epoch 9 [28160/60000 (47%)]\t1.501422\n",
            "Train Epoch 9 [29440/60000 (49%)]\t1.462119\n",
            "Train Epoch 9 [30720/60000 (51%)]\t1.521318\n",
            "Train Epoch 9 [32000/60000 (53%)]\t1.557918\n",
            "Train Epoch 9 [33280/60000 (55%)]\t1.531078\n",
            "Train Epoch 9 [34560/60000 (58%)]\t1.564537\n",
            "Train Epoch 9 [35840/60000 (60%)]\t1.542460\n",
            "Train Epoch 9 [37120/60000 (62%)]\t1.572353\n",
            "Train Epoch 9 [38400/60000 (64%)]\t1.587934\n",
            "Train Epoch 9 [39680/60000 (66%)]\t1.539818\n",
            "Train Epoch 9 [40960/60000 (68%)]\t1.572533\n",
            "Train Epoch 9 [42240/60000 (70%)]\t1.479067\n",
            "Train Epoch 9 [43520/60000 (72%)]\t1.492084\n",
            "Train Epoch 9 [44800/60000 (75%)]\t1.545348\n",
            "Train Epoch 9 [46080/60000 (77%)]\t1.525395\n",
            "Train Epoch 9 [47360/60000 (79%)]\t1.508304\n",
            "Train Epoch 9 [48640/60000 (81%)]\t1.550743\n",
            "Train Epoch 9 [49920/60000 (83%)]\t1.522026\n",
            "Train Epoch 9 [51200/60000 (85%)]\t1.521673\n",
            "Train Epoch 9 [52480/60000 (87%)]\t1.535327\n",
            "Train Epoch 9 [53760/60000 (90%)]\t1.493774\n",
            "Train Epoch 9 [55040/60000 (92%)]\t1.513876\n",
            "Train Epoch 9 [56320/60000 (94%)]\t1.580475\n",
            "Train Epoch 9 [57600/60000 (96%)]\t1.516722\n",
            "Train Epoch 9 [58880/60000 (98%)]\t1.520397\n",
            "\n",
            "Test Set: average loss: 0.0234, accuracy 9740/10000 (97%)\n",
            "\n",
            "Train Epoch 10 [0/60000 (0%)]\t1.509665\n",
            "Train Epoch 10 [1280/60000 (2%)]\t1.534510\n",
            "Train Epoch 10 [2560/60000 (4%)]\t1.538585\n",
            "Train Epoch 10 [3840/60000 (6%)]\t1.500584\n",
            "Train Epoch 10 [5120/60000 (9%)]\t1.611141\n",
            "Train Epoch 10 [6400/60000 (11%)]\t1.506124\n",
            "Train Epoch 10 [7680/60000 (13%)]\t1.528964\n",
            "Train Epoch 10 [8960/60000 (15%)]\t1.527614\n",
            "Train Epoch 10 [10240/60000 (17%)]\t1.571841\n",
            "Train Epoch 10 [11520/60000 (19%)]\t1.497956\n",
            "Train Epoch 10 [12800/60000 (21%)]\t1.553304\n",
            "Train Epoch 10 [14080/60000 (23%)]\t1.491785\n",
            "Train Epoch 10 [15360/60000 (26%)]\t1.519448\n",
            "Train Epoch 10 [16640/60000 (28%)]\t1.508171\n",
            "Train Epoch 10 [17920/60000 (30%)]\t1.556531\n",
            "Train Epoch 10 [19200/60000 (32%)]\t1.552564\n",
            "Train Epoch 10 [20480/60000 (34%)]\t1.496475\n",
            "Train Epoch 10 [21760/60000 (36%)]\t1.478902\n",
            "Train Epoch 10 [23040/60000 (38%)]\t1.536043\n",
            "Train Epoch 10 [24320/60000 (41%)]\t1.543251\n",
            "Train Epoch 10 [25600/60000 (43%)]\t1.575863\n",
            "Train Epoch 10 [26880/60000 (45%)]\t1.526836\n",
            "Train Epoch 10 [28160/60000 (47%)]\t1.545347\n",
            "Train Epoch 10 [29440/60000 (49%)]\t1.536996\n",
            "Train Epoch 10 [30720/60000 (51%)]\t1.529319\n",
            "Train Epoch 10 [32000/60000 (53%)]\t1.500775\n",
            "Train Epoch 10 [33280/60000 (55%)]\t1.470314\n",
            "Train Epoch 10 [34560/60000 (58%)]\t1.530550\n",
            "Train Epoch 10 [35840/60000 (60%)]\t1.548363\n",
            "Train Epoch 10 [37120/60000 (62%)]\t1.542349\n",
            "Train Epoch 10 [38400/60000 (64%)]\t1.559341\n",
            "Train Epoch 10 [39680/60000 (66%)]\t1.523843\n",
            "Train Epoch 10 [40960/60000 (68%)]\t1.521527\n",
            "Train Epoch 10 [42240/60000 (70%)]\t1.570556\n",
            "Train Epoch 10 [43520/60000 (72%)]\t1.523937\n",
            "Train Epoch 10 [44800/60000 (75%)]\t1.514896\n",
            "Train Epoch 10 [46080/60000 (77%)]\t1.516306\n",
            "Train Epoch 10 [47360/60000 (79%)]\t1.514448\n",
            "Train Epoch 10 [48640/60000 (81%)]\t1.555363\n",
            "Train Epoch 10 [49920/60000 (83%)]\t1.466362\n",
            "Train Epoch 10 [51200/60000 (85%)]\t1.510522\n",
            "Train Epoch 10 [52480/60000 (87%)]\t1.555583\n",
            "Train Epoch 10 [53760/60000 (90%)]\t1.541153\n",
            "Train Epoch 10 [55040/60000 (92%)]\t1.512835\n",
            "Train Epoch 10 [56320/60000 (94%)]\t1.507410\n",
            "Train Epoch 10 [57600/60000 (96%)]\t1.472913\n",
            "Train Epoch 10 [58880/60000 (98%)]\t1.551748\n",
            "\n",
            "Test Set: average loss: 0.0234, accuracy 9730/10000 (97%)\n",
            "\n"
          ]
        }
      ]
    },
    {
      "cell_type": "code",
      "source": [
        "import matplotlib.pyplot as plt\n",
        "model.eval()\n",
        "data,target=test_data[10]\n",
        "data=data.unsqueeze(0).to(device)\n",
        "output=model(data)\n",
        "prediction=output.argmax(dim=1,keepdim=True).item()\n",
        "print(f\"Prediction : {prediction}\")\n",
        "image=data.squeeze(0).squeeze(0).cpu().numpy()\n",
        "plt.imshow(image,cmap=\"gray\")\n",
        "plt.show()"
      ],
      "metadata": {
        "colab": {
          "base_uri": "https://localhost:8080/",
          "height": 502
        },
        "id": "jA5ESIokxTN8",
        "outputId": "d9209763-da8c-4b6f-b893-1dab3282d991"
      },
      "execution_count": 24,
      "outputs": [
        {
          "output_type": "stream",
          "name": "stdout",
          "text": [
            "Prediction : 0\n"
          ]
        },
        {
          "output_type": "stream",
          "name": "stderr",
          "text": [
            "<ipython-input-18-ffdda22ff0ba>:23: UserWarning: Implicit dimension choice for softmax has been deprecated. Change the call to include dim=X as an argument.\n",
            "  return F.softmax(x)\n"
          ]
        },
        {
          "output_type": "display_data",
          "data": {
            "text/plain": [
              "<Figure size 640x480 with 1 Axes>"
            ],
            "image/png": "[encoded data removed]"
          },
          "metadata": {}
        }
      ]
    },
    {
      "cell_type": "markdown",
      "source": [
        "# Reference\n",
        "https://youtu.be/vBlO87ZAiiw?si=SGbgmpv8UtJuFsZz"
      ],
      "metadata": {
        "id": "8hxci1tA0Dal"
      }
    },
    {
      "cell_type": "code",
      "source": [],
      "metadata": {
        "id": "oQEuWmEkxTK5"
      },
      "execution_count": null,
      "outputs": []
    }
  ]
}